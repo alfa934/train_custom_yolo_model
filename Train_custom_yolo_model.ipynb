{
  "nbformat": 4,
  "nbformat_minor": 0,
  "metadata": {
    "colab": {
      "provenance": [],
      "authorship_tag": "ABX9TyN4d8j0TResLL9toVJ6mLnb",
      "include_colab_link": true
    },
    "kernelspec": {
      "name": "python3",
      "display_name": "Python 3"
    },
    "language_info": {
      "name": "python"
    }
  },
  "cells": [
    {
      "cell_type": "markdown",
      "metadata": {
        "id": "view-in-github",
        "colab_type": "text"
      },
      "source": [
        "<a href=\"https://colab.research.google.com/github/alfa934/train_custom_yolo_model/blob/main/Train_custom_yolo_model.ipynb\" target=\"_parent\"><img src=\"https://colab.research.google.com/assets/colab-badge.svg\" alt=\"Open In Colab\"/></a>"
      ]
    },
    {
      "cell_type": "markdown",
      "source": [
        "# Prepare Dataset\n",
        "You can use Roboflow, Make Sense AI, etc..."
      ],
      "metadata": {
        "id": "SjVgqxvEzZ_r"
      }
    },
    {
      "cell_type": "code",
      "execution_count": null,
      "metadata": {
        "id": "ScaMYRLJzV1c"
      },
      "outputs": [],
      "source": []
    }
  ]
}