{
  "nbformat": 4,
  "nbformat_minor": 0,
  "metadata": {
    "colab": {
      "provenance": [],
      "authorship_tag": "ABX9TyPPRoaXPM1gsuALNTH86Wb/",
      "include_colab_link": true
    },
    "kernelspec": {
      "name": "python3",
      "display_name": "Python 3"
    },
    "language_info": {
      "name": "python"
    }
  },
  "cells": [
    {
      "cell_type": "markdown",
      "metadata": {
        "id": "view-in-github",
        "colab_type": "text"
      },
      "source": [
        "<a href=\"https://colab.research.google.com/github/alfa934/train_custom_yolo_model/blob/main/Train_custom_yolo_model.ipynb\" target=\"_parent\"><img src=\"https://colab.research.google.com/assets/colab-badge.svg\" alt=\"Open In Colab\"/></a>"
      ]
    },
    {
      "cell_type": "markdown",
      "source": [
        "# 1. Prepare Dataset and Files\n",
        "You can use Roboflow, Make Sense AI, etc..."
      ],
      "metadata": {
        "id": "SjVgqxvEzZ_r"
      }
    },
    {
      "cell_type": "code",
      "execution_count": null,
      "metadata": {
        "id": "ScaMYRLJzV1c"
      },
      "outputs": [],
      "source": [
        "%pip install ultralytics\n",
        "import ultralytics\n",
        "ultralytics.checks()"
      ]
    },
    {
      "cell_type": "code",
      "source": [
        "# import files from google drive\n",
        "\n",
        "from google.colab import drive\n",
        "drive.mount('/content/drive')"
      ],
      "metadata": {
        "id": "1eoAPZIt5roe"
      },
      "execution_count": null,
      "outputs": []
    },
    {
      "cell_type": "code",
      "source": [
        "# Change <custom_data_folder.zip>\n",
        "\n",
        "!unzip \"/content/drive/MyDrive/<custom_data_folder.zip>\" -d \"/content\"\n",
        "\n",
        "# this should include images, labels, and YAML file"
      ],
      "metadata": {
        "id": "cFbhQ7C35umk"
      },
      "execution_count": null,
      "outputs": []
    },
    {
      "cell_type": "markdown",
      "source": [
        "# 2. Train YOLO model with dataset"
      ],
      "metadata": {
        "id": "82IVHNyM7ZcE"
      }
    },
    {
      "cell_type": "code",
      "source": [
        "# Change path to YAML file\n",
        "# Optional: change model and epoch (iterations)\n",
        "\n",
        "!yolo train model=yolov8n.pt data=\"/content/<custom_data_folder>/<yaml_file.yaml>\" epochs=10 imgsz=640"
      ],
      "metadata": {
        "id": "37Nsq3V96dUy"
      },
      "execution_count": null,
      "outputs": []
    },
    {
      "cell_type": "markdown",
      "source": [
        "# 3. Export Model/Weights\n",
        "- Results are usually saved to **_runs/detect/train_** <br>\n",
        "\n",
        "\n",
        "- Find in directory, the more you train, the more train files there will be (choose the latest one, for example **_train2_**).\n",
        "\n",
        "\n",
        "> Choose **_best.pt_**, or other **_.pt_** file\n",
        "\n",
        "- Download the **_.pt_** file and save it LOCALLY on your laptop/pc.\n",
        "\n",
        "![deploy_model.png](https://github.com/alfa934/train_custom_yolo_model/blob/main/resource/deploy_model.png?raw=true)\n",
        "\n",
        "- Then use it with **[opencv_detect.py](https://github.com/alfa934/train_custom_yolo_model/blob/main/opencv_detect.py)**\n",
        "\n",
        "![opencv_custom.png](https://github.com/alfa934/train_custom_yolo_model/blob/main/resource/opencv_custom.png?raw=true)\n",
        "\n",
        "<br>\n",
        "\n",
        "> Good Luck and Have Fun! 🌝🌝🌝\n",
        "\n"
      ],
      "metadata": {
        "id": "nKp34A5F7jt9"
      }
    }
  ]
}